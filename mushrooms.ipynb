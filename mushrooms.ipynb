{
 "metadata": {
  "language_info": {
   "codemirror_mode": {
    "name": "ipython",
    "version": 3
   },
   "file_extension": ".py",
   "mimetype": "text/x-python",
   "name": "python",
   "nbconvert_exporter": "python",
   "pygments_lexer": "ipython3",
   "version": "3.8.3-final"
  },
  "orig_nbformat": 2,
  "kernelspec": {
   "name": "python3",
   "display_name": "Python 3",
   "language": "python"
  }
 },
 "nbformat": 4,
 "nbformat_minor": 2,
 "cells": [
  {
   "cell_type": "code",
   "execution_count": 1,
   "metadata": {},
   "outputs": [],
   "source": [
    "import pandas as pd \n",
    "import numpy as np \n",
    "import matplotlib.pyplot as plt \n",
    "import time\n",
    "import sklearn"
   ]
  },
  {
   "cell_type": "code",
   "execution_count": 2,
   "metadata": {},
   "outputs": [],
   "source": [
    "from sklearn.preprocessing import StandardScaler\n",
    "from sklearn.preprocessing import Binarizer\n",
    "from sklearn.neural_network import MLPClassifier\n",
    "from sklearn.metrics import confusion_matrix, classification_report\n",
    "from sklearn.preprocessing import StandardScaler, LabelEncoder\n",
    "from sklearn.model_selection import train_test_split\n",
    "from sklearn.model_selection import cross_validate"
   ]
  },
  {
   "cell_type": "code",
   "execution_count": 3,
   "metadata": {},
   "outputs": [],
   "source": [
    "from sklearn.neural_network import MLPClassifier\n",
    "from sklearn.ensemble import RandomForestClassifier\n",
    "from sklearn.ensemble import ExtraTreesClassifier\n",
    "from sklearn.linear_model import SGDClassifier\n",
    "from sklearn.naive_bayes import GaussianNB\n",
    "from sklearn import svm\n",
    "from sklearn import tree"
   ]
  },
  {
   "cell_type": "code",
   "execution_count": 4,
   "metadata": {},
   "outputs": [],
   "source": [
    "def model_acc_time(X_train, X_test, y_train, y_test, model):\n",
    "    # creates a model based on training data and returns the accuracy on the held out test set and the time it took to train the model\n",
    "    # data should be pre processed already\n",
    "    \n",
    "    # records the time and accuracy for each model, as well as saving the model itself\n",
    "    total_time = []\n",
    "    accuracy = []\n",
    "    models = []\n",
    "\n",
    "    # manual 5 fold on test data to select the best model\n",
    "    for i in range(5):\n",
    "        # splitting the training data to train and evaluate the model\n",
    "        kfX_train, kfX_test, kfy_train, kfy_test = train_test_split(\n",
    "    X_train, y_train, test_size=0.2,shuffle=True)\n",
    "\n",
    "        # creates a new unfitted model with the inputted parameters\n",
    "        curModel = sklearn.base.clone(model)\n",
    "\n",
    "\n",
    "        # times the training of the model and calcualtes the accuracy on the validation set\n",
    "        t1 = time.time()\n",
    "        curModel.fit(kfX_train,kfy_train)\n",
    "        accuracy.append((curModel.predict(kfX_test)==np.array(kfy_test)[0]).mean())\n",
    "        t2 = time.time()\n",
    "        models.append(curModel)\n",
    "        total_time.append(t2-t1)\n",
    "\n",
    "    # selects the model with the highest accuracy on the validation set and calcuates the accuracy on the held out set\n",
    "    best_index = accuracy.index(max(accuracy))\n",
    "    t = total_time[best_index]\n",
    "    most_acc_model = models[best_index]\n",
    "    acc = (most_acc_model.predict(X_test)==np.array(y_test)[0]).mean()*100\n",
    "\n",
    "    return \"Accuracy: {0:.2f}% || Time to Train: {1:.3f} seconds\".format(acc, t)"
   ]
  },
  {
   "cell_type": "code",
   "execution_count": null,
   "metadata": {},
   "outputs": [],
   "source": []
  }
 ]
}