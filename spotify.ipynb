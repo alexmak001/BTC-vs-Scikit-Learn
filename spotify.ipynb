{
 "metadata": {
  "language_info": {
   "codemirror_mode": {
    "name": "ipython",
    "version": 3
   },
   "file_extension": ".py",
   "mimetype": "text/x-python",
   "name": "python",
   "nbconvert_exporter": "python",
   "pygments_lexer": "ipython3",
   "version": "3.8.3-final"
  },
  "orig_nbformat": 2,
  "kernelspec": {
   "name": "python3",
   "display_name": "Python 3",
   "language": "python"
  }
 },
 "nbformat": 4,
 "nbformat_minor": 2,
 "cells": [
  {
   "cell_type": "code",
   "execution_count": 26,
   "metadata": {},
   "outputs": [],
   "source": [
    "import pandas as pd \n",
    "import numpy as np \n",
    "import matplotlib.pyplot as plt \n",
    "import time\n",
    "import sklearn"
   ]
  },
  {
   "cell_type": "code",
   "execution_count": 2,
   "metadata": {},
   "outputs": [],
   "source": [
    "from sklearn.preprocessing import StandardScaler\n",
    "from sklearn.preprocessing import Binarizer\n",
    "from sklearn.neural_network import MLPClassifier\n",
    "from sklearn.metrics import confusion_matrix, classification_report\n",
    "from sklearn.preprocessing import StandardScaler, LabelEncoder\n",
    "from sklearn.model_selection import train_test_split\n",
    "from sklearn.model_selection import cross_validate"
   ]
  },
  {
   "cell_type": "code",
   "execution_count": 3,
   "metadata": {},
   "outputs": [],
   "source": [
    "from sklearn.neural_network import MLPClassifier\n",
    "from sklearn.ensemble import RandomForestClassifier\n",
    "from sklearn.ensemble import ExtraTreesClassifier\n",
    "from sklearn.linear_model import SGDClassifier\n",
    "from sklearn.naive_bayes import GaussianNB\n",
    "from sklearn import svm\n",
    "from sklearn import tree"
   ]
  },
  {
   "cell_type": "code",
   "execution_count": 15,
   "metadata": {},
   "outputs": [
    {
     "output_type": "error",
     "ename": "ModuleNotFoundError",
     "evalue": "No module named 'task1'",
     "traceback": [
      "\u001b[1;31m---------------------------------------------------------------------------\u001b[0m",
      "\u001b[1;31mModuleNotFoundError\u001b[0m                       Traceback (most recent call last)",
      "\u001b[1;32m<ipython-input-15-b8433bc2470e>\u001b[0m in \u001b[0;36m<module>\u001b[1;34m\u001b[0m\n\u001b[1;32m----> 1\u001b[1;33m \u001b[1;32mfrom\u001b[0m \u001b[0mtask1\u001b[0m \u001b[1;32mimport\u001b[0m \u001b[0mmodel_acc_time\u001b[0m\u001b[1;33m\u001b[0m\u001b[1;33m\u001b[0m\u001b[0m\n\u001b[0m",
      "\u001b[1;31mModuleNotFoundError\u001b[0m: No module named 'task1'"
     ]
    }
   ],
   "source": [
    "from task1 import model_acc_time"
   ]
  },
  {
   "cell_type": "code",
   "execution_count": 8,
   "metadata": {},
   "outputs": [
    {
     "output_type": "execute_result",
     "data": {
      "text/plain": [
       "                   artist                             album  \\\n",
       "0              Juice WRLD               Death Race For Love   \n",
       "1             ScHoolboy Q                     Blank Face LP   \n",
       "2         Shoreline Mafia                     Mafia Bidness   \n",
       "3                  Polo G                      Die A Legend   \n",
       "4                   Drake              Dark Lane Demo Tapes   \n",
       "...                   ...                               ...   \n",
       "1219        Talking Heads  Remain in Light (Deluxe Version)   \n",
       "1220               Boston                            Boston   \n",
       "1221        Black Sabbath               Paranoid (Remaster)   \n",
       "1222  The Doobie Brothers                   Toulouse Street   \n",
       "1223   The Rolling Stones       Sticky Fingers (Remastered)   \n",
       "\n",
       "                              track_name                track_id  \\\n",
       "0                                    Big  4rWC4tiO4NCwRHdh6vyu6b   \n",
       "1                              THat Part  2yJ9GVCLMmzBBfQAnfzlwr   \n",
       "2                            Perc Popper  0OPcFAAo9LMO9xvu1L7JGD   \n",
       "3               Pop Out (feat. Lil Tjay)  6uFn47ACjqYkc0jADwEdj1   \n",
       "4                           Toosie Slide  466cKvZn1j45IpxDdYZqdA   \n",
       "...                                  ...                     ...   \n",
       "1219  Once in a Lifetime - 2005 Remaster  38Ngied9rBORlAbLYNCl4k   \n",
       "1220                       Peace of Mind  3sY6z4pGcxpMwx3W026WtU   \n",
       "1221          Iron Man - 2012 - Remaster  3IOQZRcEkplCXg6LofKqE9   \n",
       "1222                 Listen to the Music  7Ar4G7Ci11gpt6sfH9Cgz5   \n",
       "1223              Wild Horses - 2009 Mix  52dm9op3rbfAkc1LGXgipW   \n",
       "\n",
       "      danceability  energy  key  loudness  mode  speechiness  \\\n",
       "0            0.768   0.641   11    -6.197     0       0.1140   \n",
       "1            0.927   0.535    6    -7.590     0       0.0911   \n",
       "2            0.936   0.339    1    -9.297     1       0.7510   \n",
       "3            0.772   0.639    1    -7.119     1       0.4670   \n",
       "4            0.830   0.490    1    -8.820     0       0.2090   \n",
       "...            ...     ...  ...       ...   ...          ...   \n",
       "1219         0.644   0.919    2    -6.289     1       0.0561   \n",
       "1220         0.421   0.677    4    -6.183     1       0.0343   \n",
       "1221         0.336   0.792    9   -10.875     1       0.0840   \n",
       "1222         0.645   0.598    1   -13.180     0       0.0335   \n",
       "1223         0.432   0.389    7    -6.517     1       0.0255   \n",
       "\n",
       "      instrumentalness  liveness  valence    tempo  duration_ms  \\\n",
       "0             0.000000    0.0912    0.231  144.963       224063   \n",
       "1             0.000000    0.1360    0.336  112.960       313573   \n",
       "2             0.000000    0.2110    0.273  105.165       120857   \n",
       "3             0.000000    0.0698    0.261  168.112       166560   \n",
       "4             0.000003    0.1130    0.845   81.604       247059   \n",
       "...                ...       ...      ...      ...          ...   \n",
       "1219          0.134000    0.6220    0.871  117.459       259907   \n",
       "1220          0.000097    0.2110    0.683  127.670       303587   \n",
       "1221          0.001750    0.0437    0.427  155.587       355304   \n",
       "1222          0.000004    0.0721    0.913  105.929       227267   \n",
       "1223          0.010700    0.0788    0.158  139.506       341773   \n",
       "\n",
       "      time_signature   like  \n",
       "0                  4   True  \n",
       "1                  4   True  \n",
       "2                  4   True  \n",
       "3                  4   True  \n",
       "4                  4   True  \n",
       "...              ...    ...  \n",
       "1219               4  False  \n",
       "1220               4  False  \n",
       "1221               4  False  \n",
       "1222               4  False  \n",
       "1223               4  False  \n",
       "\n",
       "[1224 rows x 17 columns]"
      ],
      "text/html": "<div>\n<style scoped>\n    .dataframe tbody tr th:only-of-type {\n        vertical-align: middle;\n    }\n\n    .dataframe tbody tr th {\n        vertical-align: top;\n    }\n\n    .dataframe thead th {\n        text-align: right;\n    }\n</style>\n<table border=\"1\" class=\"dataframe\">\n  <thead>\n    <tr style=\"text-align: right;\">\n      <th></th>\n      <th>artist</th>\n      <th>album</th>\n      <th>track_name</th>\n      <th>track_id</th>\n      <th>danceability</th>\n      <th>energy</th>\n      <th>key</th>\n      <th>loudness</th>\n      <th>mode</th>\n      <th>speechiness</th>\n      <th>instrumentalness</th>\n      <th>liveness</th>\n      <th>valence</th>\n      <th>tempo</th>\n      <th>duration_ms</th>\n      <th>time_signature</th>\n      <th>like</th>\n    </tr>\n  </thead>\n  <tbody>\n    <tr>\n      <th>0</th>\n      <td>Juice WRLD</td>\n      <td>Death Race For Love</td>\n      <td>Big</td>\n      <td>4rWC4tiO4NCwRHdh6vyu6b</td>\n      <td>0.768</td>\n      <td>0.641</td>\n      <td>11</td>\n      <td>-6.197</td>\n      <td>0</td>\n      <td>0.1140</td>\n      <td>0.000000</td>\n      <td>0.0912</td>\n      <td>0.231</td>\n      <td>144.963</td>\n      <td>224063</td>\n      <td>4</td>\n      <td>True</td>\n    </tr>\n    <tr>\n      <th>1</th>\n      <td>ScHoolboy Q</td>\n      <td>Blank Face LP</td>\n      <td>THat Part</td>\n      <td>2yJ9GVCLMmzBBfQAnfzlwr</td>\n      <td>0.927</td>\n      <td>0.535</td>\n      <td>6</td>\n      <td>-7.590</td>\n      <td>0</td>\n      <td>0.0911</td>\n      <td>0.000000</td>\n      <td>0.1360</td>\n      <td>0.336</td>\n      <td>112.960</td>\n      <td>313573</td>\n      <td>4</td>\n      <td>True</td>\n    </tr>\n    <tr>\n      <th>2</th>\n      <td>Shoreline Mafia</td>\n      <td>Mafia Bidness</td>\n      <td>Perc Popper</td>\n      <td>0OPcFAAo9LMO9xvu1L7JGD</td>\n      <td>0.936</td>\n      <td>0.339</td>\n      <td>1</td>\n      <td>-9.297</td>\n      <td>1</td>\n      <td>0.7510</td>\n      <td>0.000000</td>\n      <td>0.2110</td>\n      <td>0.273</td>\n      <td>105.165</td>\n      <td>120857</td>\n      <td>4</td>\n      <td>True</td>\n    </tr>\n    <tr>\n      <th>3</th>\n      <td>Polo G</td>\n      <td>Die A Legend</td>\n      <td>Pop Out (feat. Lil Tjay)</td>\n      <td>6uFn47ACjqYkc0jADwEdj1</td>\n      <td>0.772</td>\n      <td>0.639</td>\n      <td>1</td>\n      <td>-7.119</td>\n      <td>1</td>\n      <td>0.4670</td>\n      <td>0.000000</td>\n      <td>0.0698</td>\n      <td>0.261</td>\n      <td>168.112</td>\n      <td>166560</td>\n      <td>4</td>\n      <td>True</td>\n    </tr>\n    <tr>\n      <th>4</th>\n      <td>Drake</td>\n      <td>Dark Lane Demo Tapes</td>\n      <td>Toosie Slide</td>\n      <td>466cKvZn1j45IpxDdYZqdA</td>\n      <td>0.830</td>\n      <td>0.490</td>\n      <td>1</td>\n      <td>-8.820</td>\n      <td>0</td>\n      <td>0.2090</td>\n      <td>0.000003</td>\n      <td>0.1130</td>\n      <td>0.845</td>\n      <td>81.604</td>\n      <td>247059</td>\n      <td>4</td>\n      <td>True</td>\n    </tr>\n    <tr>\n      <th>...</th>\n      <td>...</td>\n      <td>...</td>\n      <td>...</td>\n      <td>...</td>\n      <td>...</td>\n      <td>...</td>\n      <td>...</td>\n      <td>...</td>\n      <td>...</td>\n      <td>...</td>\n      <td>...</td>\n      <td>...</td>\n      <td>...</td>\n      <td>...</td>\n      <td>...</td>\n      <td>...</td>\n      <td>...</td>\n    </tr>\n    <tr>\n      <th>1219</th>\n      <td>Talking Heads</td>\n      <td>Remain in Light (Deluxe Version)</td>\n      <td>Once in a Lifetime - 2005 Remaster</td>\n      <td>38Ngied9rBORlAbLYNCl4k</td>\n      <td>0.644</td>\n      <td>0.919</td>\n      <td>2</td>\n      <td>-6.289</td>\n      <td>1</td>\n      <td>0.0561</td>\n      <td>0.134000</td>\n      <td>0.6220</td>\n      <td>0.871</td>\n      <td>117.459</td>\n      <td>259907</td>\n      <td>4</td>\n      <td>False</td>\n    </tr>\n    <tr>\n      <th>1220</th>\n      <td>Boston</td>\n      <td>Boston</td>\n      <td>Peace of Mind</td>\n      <td>3sY6z4pGcxpMwx3W026WtU</td>\n      <td>0.421</td>\n      <td>0.677</td>\n      <td>4</td>\n      <td>-6.183</td>\n      <td>1</td>\n      <td>0.0343</td>\n      <td>0.000097</td>\n      <td>0.2110</td>\n      <td>0.683</td>\n      <td>127.670</td>\n      <td>303587</td>\n      <td>4</td>\n      <td>False</td>\n    </tr>\n    <tr>\n      <th>1221</th>\n      <td>Black Sabbath</td>\n      <td>Paranoid (Remaster)</td>\n      <td>Iron Man - 2012 - Remaster</td>\n      <td>3IOQZRcEkplCXg6LofKqE9</td>\n      <td>0.336</td>\n      <td>0.792</td>\n      <td>9</td>\n      <td>-10.875</td>\n      <td>1</td>\n      <td>0.0840</td>\n      <td>0.001750</td>\n      <td>0.0437</td>\n      <td>0.427</td>\n      <td>155.587</td>\n      <td>355304</td>\n      <td>4</td>\n      <td>False</td>\n    </tr>\n    <tr>\n      <th>1222</th>\n      <td>The Doobie Brothers</td>\n      <td>Toulouse Street</td>\n      <td>Listen to the Music</td>\n      <td>7Ar4G7Ci11gpt6sfH9Cgz5</td>\n      <td>0.645</td>\n      <td>0.598</td>\n      <td>1</td>\n      <td>-13.180</td>\n      <td>0</td>\n      <td>0.0335</td>\n      <td>0.000004</td>\n      <td>0.0721</td>\n      <td>0.913</td>\n      <td>105.929</td>\n      <td>227267</td>\n      <td>4</td>\n      <td>False</td>\n    </tr>\n    <tr>\n      <th>1223</th>\n      <td>The Rolling Stones</td>\n      <td>Sticky Fingers (Remastered)</td>\n      <td>Wild Horses - 2009 Mix</td>\n      <td>52dm9op3rbfAkc1LGXgipW</td>\n      <td>0.432</td>\n      <td>0.389</td>\n      <td>7</td>\n      <td>-6.517</td>\n      <td>1</td>\n      <td>0.0255</td>\n      <td>0.010700</td>\n      <td>0.0788</td>\n      <td>0.158</td>\n      <td>139.506</td>\n      <td>341773</td>\n      <td>4</td>\n      <td>False</td>\n    </tr>\n  </tbody>\n</table>\n<p>1224 rows × 17 columns</p>\n</div>"
     },
     "metadata": {},
     "execution_count": 8
    }
   ],
   "source": [
    "music = pd.read_csv(\"data/music_pref.csv\")\n",
    "music = music.drop(\"Unnamed: 0\",axis=1)\n",
    "music "
   ]
  },
  {
   "cell_type": "code",
   "execution_count": 9,
   "metadata": {},
   "outputs": [
    {
     "output_type": "execute_result",
     "data": {
      "text/plain": [
       "                  danceability    energy       key  loudness      mode  \\\n",
       "danceability          1.000000  0.160723  0.018279  0.365180 -0.114084   \n",
       "energy                0.160723  1.000000  0.062901  0.810973  0.023386   \n",
       "key                   0.018279  0.062901  1.000000  0.044561 -0.080468   \n",
       "loudness              0.365180  0.810973  0.044561  1.000000 -0.015200   \n",
       "mode                 -0.114084  0.023386 -0.080468 -0.015200  1.000000   \n",
       "speechiness           0.354250  0.018908  0.052493  0.089652 -0.039701   \n",
       "instrumentalness     -0.372427 -0.398536 -0.033232 -0.578851  0.007626   \n",
       "liveness             -0.076517  0.188795 -0.032019  0.131529  0.016630   \n",
       "valence               0.385661  0.313118  0.010974  0.304366  0.053727   \n",
       "tempo                -0.100567  0.258939  0.046203  0.228094  0.052419   \n",
       "duration_ms          -0.381725 -0.278061  0.015288 -0.319807  0.025444   \n",
       "time_signature        0.274698  0.328556 -0.033969  0.260435  0.028908   \n",
       "like                  0.529069  0.204386 -0.010054  0.319524 -0.177542   \n",
       "\n",
       "                  speechiness  instrumentalness  liveness   valence     tempo  \\\n",
       "danceability         0.354250         -0.372427 -0.076517  0.385661 -0.100567   \n",
       "energy               0.018908         -0.398536  0.188795  0.313118  0.258939   \n",
       "key                  0.052493         -0.033232 -0.032019  0.010974  0.046203   \n",
       "loudness             0.089652         -0.578851  0.131529  0.304366  0.228094   \n",
       "mode                -0.039701          0.007626  0.016630  0.053727  0.052419   \n",
       "speechiness          1.000000         -0.163912  0.050025  0.020819  0.069188   \n",
       "instrumentalness    -0.163912          1.000000 -0.067850 -0.315934 -0.146769   \n",
       "liveness             0.050025         -0.067850  1.000000  0.027993  0.095644   \n",
       "valence              0.020819         -0.315934  0.027993  1.000000  0.097565   \n",
       "tempo                0.069188         -0.146769  0.095644  0.097565  1.000000   \n",
       "duration_ms         -0.179805          0.163185  0.004274 -0.243466 -0.080110   \n",
       "time_signature       0.107239         -0.147983 -0.013691  0.199208 -0.051797   \n",
       "like                 0.300273         -0.175231  0.000178 -0.019913  0.015130   \n",
       "\n",
       "                  duration_ms  time_signature      like  \n",
       "danceability        -0.381725        0.274698  0.529069  \n",
       "energy              -0.278061        0.328556  0.204386  \n",
       "key                  0.015288       -0.033969 -0.010054  \n",
       "loudness            -0.319807        0.260435  0.319524  \n",
       "mode                 0.025444        0.028908 -0.177542  \n",
       "speechiness         -0.179805        0.107239  0.300273  \n",
       "instrumentalness     0.163185       -0.147983 -0.175231  \n",
       "liveness             0.004274       -0.013691  0.000178  \n",
       "valence             -0.243466        0.199208 -0.019913  \n",
       "tempo               -0.080110       -0.051797  0.015130  \n",
       "duration_ms          1.000000       -0.286954 -0.323974  \n",
       "time_signature      -0.286954        1.000000  0.204215  \n",
       "like                -0.323974        0.204215  1.000000  "
      ],
      "text/html": "<div>\n<style scoped>\n    .dataframe tbody tr th:only-of-type {\n        vertical-align: middle;\n    }\n\n    .dataframe tbody tr th {\n        vertical-align: top;\n    }\n\n    .dataframe thead th {\n        text-align: right;\n    }\n</style>\n<table border=\"1\" class=\"dataframe\">\n  <thead>\n    <tr style=\"text-align: right;\">\n      <th></th>\n      <th>danceability</th>\n      <th>energy</th>\n      <th>key</th>\n      <th>loudness</th>\n      <th>mode</th>\n      <th>speechiness</th>\n      <th>instrumentalness</th>\n      <th>liveness</th>\n      <th>valence</th>\n      <th>tempo</th>\n      <th>duration_ms</th>\n      <th>time_signature</th>\n      <th>like</th>\n    </tr>\n  </thead>\n  <tbody>\n    <tr>\n      <th>danceability</th>\n      <td>1.000000</td>\n      <td>0.160723</td>\n      <td>0.018279</td>\n      <td>0.365180</td>\n      <td>-0.114084</td>\n      <td>0.354250</td>\n      <td>-0.372427</td>\n      <td>-0.076517</td>\n      <td>0.385661</td>\n      <td>-0.100567</td>\n      <td>-0.381725</td>\n      <td>0.274698</td>\n      <td>0.529069</td>\n    </tr>\n    <tr>\n      <th>energy</th>\n      <td>0.160723</td>\n      <td>1.000000</td>\n      <td>0.062901</td>\n      <td>0.810973</td>\n      <td>0.023386</td>\n      <td>0.018908</td>\n      <td>-0.398536</td>\n      <td>0.188795</td>\n      <td>0.313118</td>\n      <td>0.258939</td>\n      <td>-0.278061</td>\n      <td>0.328556</td>\n      <td>0.204386</td>\n    </tr>\n    <tr>\n      <th>key</th>\n      <td>0.018279</td>\n      <td>0.062901</td>\n      <td>1.000000</td>\n      <td>0.044561</td>\n      <td>-0.080468</td>\n      <td>0.052493</td>\n      <td>-0.033232</td>\n      <td>-0.032019</td>\n      <td>0.010974</td>\n      <td>0.046203</td>\n      <td>0.015288</td>\n      <td>-0.033969</td>\n      <td>-0.010054</td>\n    </tr>\n    <tr>\n      <th>loudness</th>\n      <td>0.365180</td>\n      <td>0.810973</td>\n      <td>0.044561</td>\n      <td>1.000000</td>\n      <td>-0.015200</td>\n      <td>0.089652</td>\n      <td>-0.578851</td>\n      <td>0.131529</td>\n      <td>0.304366</td>\n      <td>0.228094</td>\n      <td>-0.319807</td>\n      <td>0.260435</td>\n      <td>0.319524</td>\n    </tr>\n    <tr>\n      <th>mode</th>\n      <td>-0.114084</td>\n      <td>0.023386</td>\n      <td>-0.080468</td>\n      <td>-0.015200</td>\n      <td>1.000000</td>\n      <td>-0.039701</td>\n      <td>0.007626</td>\n      <td>0.016630</td>\n      <td>0.053727</td>\n      <td>0.052419</td>\n      <td>0.025444</td>\n      <td>0.028908</td>\n      <td>-0.177542</td>\n    </tr>\n    <tr>\n      <th>speechiness</th>\n      <td>0.354250</td>\n      <td>0.018908</td>\n      <td>0.052493</td>\n      <td>0.089652</td>\n      <td>-0.039701</td>\n      <td>1.000000</td>\n      <td>-0.163912</td>\n      <td>0.050025</td>\n      <td>0.020819</td>\n      <td>0.069188</td>\n      <td>-0.179805</td>\n      <td>0.107239</td>\n      <td>0.300273</td>\n    </tr>\n    <tr>\n      <th>instrumentalness</th>\n      <td>-0.372427</td>\n      <td>-0.398536</td>\n      <td>-0.033232</td>\n      <td>-0.578851</td>\n      <td>0.007626</td>\n      <td>-0.163912</td>\n      <td>1.000000</td>\n      <td>-0.067850</td>\n      <td>-0.315934</td>\n      <td>-0.146769</td>\n      <td>0.163185</td>\n      <td>-0.147983</td>\n      <td>-0.175231</td>\n    </tr>\n    <tr>\n      <th>liveness</th>\n      <td>-0.076517</td>\n      <td>0.188795</td>\n      <td>-0.032019</td>\n      <td>0.131529</td>\n      <td>0.016630</td>\n      <td>0.050025</td>\n      <td>-0.067850</td>\n      <td>1.000000</td>\n      <td>0.027993</td>\n      <td>0.095644</td>\n      <td>0.004274</td>\n      <td>-0.013691</td>\n      <td>0.000178</td>\n    </tr>\n    <tr>\n      <th>valence</th>\n      <td>0.385661</td>\n      <td>0.313118</td>\n      <td>0.010974</td>\n      <td>0.304366</td>\n      <td>0.053727</td>\n      <td>0.020819</td>\n      <td>-0.315934</td>\n      <td>0.027993</td>\n      <td>1.000000</td>\n      <td>0.097565</td>\n      <td>-0.243466</td>\n      <td>0.199208</td>\n      <td>-0.019913</td>\n    </tr>\n    <tr>\n      <th>tempo</th>\n      <td>-0.100567</td>\n      <td>0.258939</td>\n      <td>0.046203</td>\n      <td>0.228094</td>\n      <td>0.052419</td>\n      <td>0.069188</td>\n      <td>-0.146769</td>\n      <td>0.095644</td>\n      <td>0.097565</td>\n      <td>1.000000</td>\n      <td>-0.080110</td>\n      <td>-0.051797</td>\n      <td>0.015130</td>\n    </tr>\n    <tr>\n      <th>duration_ms</th>\n      <td>-0.381725</td>\n      <td>-0.278061</td>\n      <td>0.015288</td>\n      <td>-0.319807</td>\n      <td>0.025444</td>\n      <td>-0.179805</td>\n      <td>0.163185</td>\n      <td>0.004274</td>\n      <td>-0.243466</td>\n      <td>-0.080110</td>\n      <td>1.000000</td>\n      <td>-0.286954</td>\n      <td>-0.323974</td>\n    </tr>\n    <tr>\n      <th>time_signature</th>\n      <td>0.274698</td>\n      <td>0.328556</td>\n      <td>-0.033969</td>\n      <td>0.260435</td>\n      <td>0.028908</td>\n      <td>0.107239</td>\n      <td>-0.147983</td>\n      <td>-0.013691</td>\n      <td>0.199208</td>\n      <td>-0.051797</td>\n      <td>-0.286954</td>\n      <td>1.000000</td>\n      <td>0.204215</td>\n    </tr>\n    <tr>\n      <th>like</th>\n      <td>0.529069</td>\n      <td>0.204386</td>\n      <td>-0.010054</td>\n      <td>0.319524</td>\n      <td>-0.177542</td>\n      <td>0.300273</td>\n      <td>-0.175231</td>\n      <td>0.000178</td>\n      <td>-0.019913</td>\n      <td>0.015130</td>\n      <td>-0.323974</td>\n      <td>0.204215</td>\n      <td>1.000000</td>\n    </tr>\n  </tbody>\n</table>\n</div>"
     },
     "metadata": {},
     "execution_count": 9
    }
   ],
   "source": [
    "music.corr()"
   ]
  },
  {
   "cell_type": "code",
   "execution_count": 10,
   "metadata": {},
   "outputs": [
    {
     "output_type": "execute_result",
     "data": {
      "text/plain": [
       "      danceability  energy  loudness  speechiness  liveness  valence    tempo  \\\n",
       "0            0.768   0.641    -6.197       0.1140    0.0912    0.231  144.963   \n",
       "1            0.927   0.535    -7.590       0.0911    0.1360    0.336  112.960   \n",
       "2            0.936   0.339    -9.297       0.7510    0.2110    0.273  105.165   \n",
       "3            0.772   0.639    -7.119       0.4670    0.0698    0.261  168.112   \n",
       "4            0.830   0.490    -8.820       0.2090    0.1130    0.845   81.604   \n",
       "...            ...     ...       ...          ...       ...      ...      ...   \n",
       "1219         0.644   0.919    -6.289       0.0561    0.6220    0.871  117.459   \n",
       "1220         0.421   0.677    -6.183       0.0343    0.2110    0.683  127.670   \n",
       "1221         0.336   0.792   -10.875       0.0840    0.0437    0.427  155.587   \n",
       "1222         0.645   0.598   -13.180       0.0335    0.0721    0.913  105.929   \n",
       "1223         0.432   0.389    -6.517       0.0255    0.0788    0.158  139.506   \n",
       "\n",
       "      like  \n",
       "0        1  \n",
       "1        1  \n",
       "2        1  \n",
       "3        1  \n",
       "4        1  \n",
       "...    ...  \n",
       "1219     0  \n",
       "1220     0  \n",
       "1221     0  \n",
       "1222     0  \n",
       "1223     0  \n",
       "\n",
       "[1224 rows x 8 columns]"
      ],
      "text/html": "<div>\n<style scoped>\n    .dataframe tbody tr th:only-of-type {\n        vertical-align: middle;\n    }\n\n    .dataframe tbody tr th {\n        vertical-align: top;\n    }\n\n    .dataframe thead th {\n        text-align: right;\n    }\n</style>\n<table border=\"1\" class=\"dataframe\">\n  <thead>\n    <tr style=\"text-align: right;\">\n      <th></th>\n      <th>danceability</th>\n      <th>energy</th>\n      <th>loudness</th>\n      <th>speechiness</th>\n      <th>liveness</th>\n      <th>valence</th>\n      <th>tempo</th>\n      <th>like</th>\n    </tr>\n  </thead>\n  <tbody>\n    <tr>\n      <th>0</th>\n      <td>0.768</td>\n      <td>0.641</td>\n      <td>-6.197</td>\n      <td>0.1140</td>\n      <td>0.0912</td>\n      <td>0.231</td>\n      <td>144.963</td>\n      <td>1</td>\n    </tr>\n    <tr>\n      <th>1</th>\n      <td>0.927</td>\n      <td>0.535</td>\n      <td>-7.590</td>\n      <td>0.0911</td>\n      <td>0.1360</td>\n      <td>0.336</td>\n      <td>112.960</td>\n      <td>1</td>\n    </tr>\n    <tr>\n      <th>2</th>\n      <td>0.936</td>\n      <td>0.339</td>\n      <td>-9.297</td>\n      <td>0.7510</td>\n      <td>0.2110</td>\n      <td>0.273</td>\n      <td>105.165</td>\n      <td>1</td>\n    </tr>\n    <tr>\n      <th>3</th>\n      <td>0.772</td>\n      <td>0.639</td>\n      <td>-7.119</td>\n      <td>0.4670</td>\n      <td>0.0698</td>\n      <td>0.261</td>\n      <td>168.112</td>\n      <td>1</td>\n    </tr>\n    <tr>\n      <th>4</th>\n      <td>0.830</td>\n      <td>0.490</td>\n      <td>-8.820</td>\n      <td>0.2090</td>\n      <td>0.1130</td>\n      <td>0.845</td>\n      <td>81.604</td>\n      <td>1</td>\n    </tr>\n    <tr>\n      <th>...</th>\n      <td>...</td>\n      <td>...</td>\n      <td>...</td>\n      <td>...</td>\n      <td>...</td>\n      <td>...</td>\n      <td>...</td>\n      <td>...</td>\n    </tr>\n    <tr>\n      <th>1219</th>\n      <td>0.644</td>\n      <td>0.919</td>\n      <td>-6.289</td>\n      <td>0.0561</td>\n      <td>0.6220</td>\n      <td>0.871</td>\n      <td>117.459</td>\n      <td>0</td>\n    </tr>\n    <tr>\n      <th>1220</th>\n      <td>0.421</td>\n      <td>0.677</td>\n      <td>-6.183</td>\n      <td>0.0343</td>\n      <td>0.2110</td>\n      <td>0.683</td>\n      <td>127.670</td>\n      <td>0</td>\n    </tr>\n    <tr>\n      <th>1221</th>\n      <td>0.336</td>\n      <td>0.792</td>\n      <td>-10.875</td>\n      <td>0.0840</td>\n      <td>0.0437</td>\n      <td>0.427</td>\n      <td>155.587</td>\n      <td>0</td>\n    </tr>\n    <tr>\n      <th>1222</th>\n      <td>0.645</td>\n      <td>0.598</td>\n      <td>-13.180</td>\n      <td>0.0335</td>\n      <td>0.0721</td>\n      <td>0.913</td>\n      <td>105.929</td>\n      <td>0</td>\n    </tr>\n    <tr>\n      <th>1223</th>\n      <td>0.432</td>\n      <td>0.389</td>\n      <td>-6.517</td>\n      <td>0.0255</td>\n      <td>0.0788</td>\n      <td>0.158</td>\n      <td>139.506</td>\n      <td>0</td>\n    </tr>\n  </tbody>\n</table>\n<p>1224 rows × 8 columns</p>\n</div>"
     },
     "metadata": {},
     "execution_count": 10
    }
   ],
   "source": [
    "data = music[[\"danceability\",\"energy\",\"loudness\",\"speechiness\",\"liveness\",\"valence\",\"tempo\",\"like\"]]\n",
    "data[\"like\"] = data[\"like\"].apply(lambda x: int(x))\n",
    "data"
   ]
  },
  {
   "cell_type": "code",
   "execution_count": 54,
   "metadata": {},
   "outputs": [
    {
     "output_type": "execute_result",
     "data": {
      "text/plain": [
       "0    0.566176\n",
       "1    0.433824\n",
       "Name: like, dtype: float64"
      ]
     },
     "metadata": {},
     "execution_count": 54
    }
   ],
   "source": [
    "data.like.value_counts(normalize=True)"
   ]
  },
  {
   "cell_type": "code",
   "execution_count": 19,
   "metadata": {},
   "outputs": [],
   "source": [
    "#Split Data into training and testing\n",
    "x = data.drop(\"like\", axis=1)\n",
    "y = data[\"like\"]\n",
    "X_train, X_test, y_train, y_test = train_test_split(x, y, test_size=0.2)"
   ]
  },
  {
   "cell_type": "code",
   "execution_count": 20,
   "metadata": {},
   "outputs": [],
   "source": [
    "#Standardize Columns\n",
    "sc = StandardScaler()\n",
    "X_train = sc.fit_transform(X_train)\n",
    "X_test = sc.transform(X_test)"
   ]
  },
  {
   "cell_type": "code",
   "execution_count": 28,
   "metadata": {},
   "outputs": [],
   "source": [
    "def model_acc_time(X_train, X_test, y_train, y_test, model):\n",
    "    # creates a model based on training data and returns the accuracy on the held out test set and the time it took to train the model\n",
    "    # data should be pre processed already\n",
    "    \n",
    "    # records the time and accuracy for each model, as well as saving the model itself\n",
    "    total_time = []\n",
    "    accuracy = []\n",
    "    models = []\n",
    "\n",
    "    # manual 5 fold on test data to select the best model\n",
    "    for i in range(5):\n",
    "        # splitting the training data to train and evaluate the model\n",
    "        kfX_train, kfX_test, kfy_train, kfy_test = train_test_split(\n",
    "    X_train, y_train, test_size=0.2,shuffle=True)\n",
    "\n",
    "        # creates a new unfitted model with the inputted parameters\n",
    "        curModel = sklearn.base.clone(model)\n",
    "\n",
    "\n",
    "        # times the training of the model and calcualtes the accuracy on the validation set\n",
    "        t1 = time.time()\n",
    "        curModel.fit(kfX_train,kfy_train)\n",
    "        accuracy.append((curModel.predict(kfX_test)==np.array(kfy_test)[0]).mean())\n",
    "        t2 = time.time()\n",
    "        models.append(curModel)\n",
    "        total_time.append(t2-t1)\n",
    "\n",
    "    # selects the model with the highest accuracy on the validation set and calcuates the accuracy on the held out set\n",
    "    best_index = accuracy.index(max(accuracy))\n",
    "    t = total_time[best_index]\n",
    "    most_acc_model = models[best_index]\n",
    "    acc = (most_acc_model.predict(X_test)==np.array(y_test)[0]).mean()*100\n",
    "\n",
    "    return \"Accuracy: {0:.2f} || Time to Train: {1:.3f}\".format(acc, t)"
   ]
  },
  {
   "cell_type": "code",
   "execution_count": 96,
   "metadata": {},
   "outputs": [],
   "source": [
    "# DT classifier, using entropy and a max depth of 6\n",
    "DT = tree.DecisionTreeClassifier(criterion=\"entropy\",max_depth=6)"
   ]
  },
  {
   "cell_type": "code",
   "execution_count": 97,
   "metadata": {},
   "outputs": [
    {
     "output_type": "execute_result",
     "data": {
      "text/plain": [
       "'Accuracy: 48.16 || Time to Train: 0.004'"
      ]
     },
     "metadata": {},
     "execution_count": 97
    }
   ],
   "source": [
    "# using the function above, we can determine the accuracy and training time of a deciosion tree model\n",
    "model_acc_time(X_train, X_test, y_train, y_test, DT)"
   ]
  },
  {
   "cell_type": "code",
   "execution_count": 99,
   "metadata": {},
   "outputs": [
    {
     "output_type": "execute_result",
     "data": {
      "text/plain": [
       "'Accuracy: 26.53 || Time to Train: 0.582'"
      ]
     },
     "metadata": {},
     "execution_count": 99
    }
   ],
   "source": [
    "# MLP Classifier \n",
    "MLP = MLPClassifier(max_iter=300, hidden_layer_sizes=(10,7,10), solver=\"sgd\")\n",
    "\n",
    "# calculating the accuracy and training time of an MLP Classifier\n",
    "model_acc_time(X_train, X_test, y_train, y_test, MLP)"
   ]
  },
  {
   "cell_type": "code",
   "execution_count": null,
   "metadata": {},
   "outputs": [],
   "source": []
  }
 ]
}