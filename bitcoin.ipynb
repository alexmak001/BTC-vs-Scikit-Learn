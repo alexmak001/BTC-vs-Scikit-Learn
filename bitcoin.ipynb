{
 "metadata": {
  "language_info": {
   "codemirror_mode": {
    "name": "ipython",
    "version": 3
   },
   "file_extension": ".py",
   "mimetype": "text/x-python",
   "name": "python",
   "nbconvert_exporter": "python",
   "pygments_lexer": "ipython3",
   "version": "3.8.5-final"
  },
  "orig_nbformat": 2,
  "kernelspec": {
   "name": "python3",
   "display_name": "Python 3",
   "language": "python"
  }
 },
 "nbformat": 4,
 "nbformat_minor": 2,
 "cells": [
  {
   "cell_type": "code",
   "execution_count": 3,
   "metadata": {},
   "outputs": [],
   "source": [
    "import pandas as pd \n",
    "import numpy as np \n",
    "import matplotlib.pyplot as plt \n",
    "import time\n",
    "import sklearn"
   ]
  },
  {
   "cell_type": "code",
   "execution_count": 4,
   "metadata": {},
   "outputs": [],
   "source": [
    "from sklearn.preprocessing import StandardScaler\n",
    "from sklearn.preprocessing import Binarizer\n",
    "from sklearn.neural_network import MLPClassifier\n",
    "from sklearn.metrics import confusion_matrix, classification_report\n",
    "from sklearn.preprocessing import StandardScaler, LabelEncoder\n",
    "from sklearn.model_selection import train_test_split\n",
    "from sklearn.model_selection import cross_validate\n",
    "from sklearn import preprocessing"
   ]
  },
  {
   "cell_type": "code",
   "execution_count": 5,
   "metadata": {},
   "outputs": [],
   "source": [
    "from sklearn.neural_network import MLPClassifier\n",
    "from sklearn.ensemble import RandomForestClassifier\n",
    "from sklearn.ensemble import ExtraTreesClassifier\n",
    "from sklearn.linear_model import SGDClassifier\n",
    "from sklearn.naive_bayes import GaussianNB\n",
    "from sklearn import svm\n",
    "from sklearn import tree"
   ]
  },
  {
   "cell_type": "code",
   "execution_count": 110,
   "metadata": {},
   "outputs": [],
   "source": [
    "def model_acc_time(X_train, X_test, y_train, y_test, model):\n",
    "    # creates a model based on training data and returns the accuracy on the held out test set and the time it took to train the model\n",
    "\n",
    "    # data should be pre processed already\n",
    "    # records the time and accuracy for each model, as well as saving the model itself\n",
    "    total_time = []\n",
    "    accuracy = []\n",
    "    models = []\n",
    "\n",
    "    # manual 5 fold on test data to select the best model\n",
    "    for i in range(5):\n",
    "        # splitting the training data to train and evaluate the model\n",
    "        kfX_train, kfX_test, kfy_train, kfy_test = train_test_split(\n",
    "    X_train, y_train, test_size=0.2,shuffle=True)\n",
    "\n",
    "        # creates a new unfitted model with the inputted parameters\n",
    "        curModel = sklearn.base.clone(model)\n",
    "\n",
    "\n",
    "        # times the training of the model and calcualtes the accuracy on the validation set\n",
    "        t1 = time.time()\n",
    "        curModel.fit(kfX_train,kfy_train)\n",
    "        accuracy.append((curModel.predict(kfX_test)==np.array(kfy_test)[0]).mean())\n",
    "        t2 = time.time()\n",
    "        models.append(curModel)\n",
    "        total_time.append(t2-t1)\n",
    "\n",
    "    # selects the model with the highest accuracy on the validation set and calcuates the accuracy on the held out set\n",
    "    best_index = accuracy.index(max(accuracy))\n",
    "    t = total_time[best_index]\n",
    "    most_acc_model = models[best_index]\n",
    "    acc = (most_acc_model.predict(X_test)==np.array(y_test)[0]).mean()*100\n",
    "\n",
    "    return \"Accuracy: {0:.2f}% || Time to Train: {1:.3f} seconds\".format(acc, t)"
   ]
  },
  {
   "cell_type": "code",
   "execution_count": 7,
   "metadata": {},
   "outputs": [
    {
     "output_type": "execute_result",
     "data": {
      "text/plain": [
       "            Date          Open          High           Low         Close  \\\n",
       "0     2016-02-01    369.350006    378.071991    367.957001    373.056000   \n",
       "1     2016-02-02    372.920013    375.882996    372.920013    374.447998   \n",
       "2     2016-02-03    374.645996    374.950012    368.045013    369.949005   \n",
       "3     2016-02-04    370.174011    391.608002    369.993011    389.593994   \n",
       "4     2016-02-05    388.898010    391.093994    385.571991    386.549011   \n",
       "...          ...           ...           ...           ...           ...   \n",
       "1823  2021-01-28  30441.041016  31891.300781  30023.207031  31649.605469   \n",
       "1824  2021-01-29  34318.671875  38406.261719  32064.814453  34316.386719   \n",
       "1825  2021-01-30  34295.933594  34834.707031  32940.187500  34269.523438   \n",
       "1826  2021-01-31  34270.878906  34288.332031  32270.175781  33114.359375   \n",
       "1827  2021-02-01  33884.246094  34622.941406  32387.177734  33656.160156   \n",
       "\n",
       "         Adj Close        Volume  \n",
       "0       373.056000  5.165670e+07  \n",
       "1       374.447998  4.037870e+07  \n",
       "2       369.949005  4.593340e+07  \n",
       "3       389.593994  6.928550e+07  \n",
       "4       386.549011  4.382500e+07  \n",
       "...            ...           ...  \n",
       "1823  31649.605469  7.894816e+10  \n",
       "1824  34316.386719  1.178946e+11  \n",
       "1825  34269.523438  6.514183e+10  \n",
       "1826  33114.359375  5.275454e+10  \n",
       "1827  33656.160156  6.105625e+10  \n",
       "\n",
       "[1828 rows x 7 columns]"
      ],
      "text/html": "<div>\n<style scoped>\n    .dataframe tbody tr th:only-of-type {\n        vertical-align: middle;\n    }\n\n    .dataframe tbody tr th {\n        vertical-align: top;\n    }\n\n    .dataframe thead th {\n        text-align: right;\n    }\n</style>\n<table border=\"1\" class=\"dataframe\">\n  <thead>\n    <tr style=\"text-align: right;\">\n      <th></th>\n      <th>Date</th>\n      <th>Open</th>\n      <th>High</th>\n      <th>Low</th>\n      <th>Close</th>\n      <th>Adj Close</th>\n      <th>Volume</th>\n    </tr>\n  </thead>\n  <tbody>\n    <tr>\n      <th>0</th>\n      <td>2016-02-01</td>\n      <td>369.350006</td>\n      <td>378.071991</td>\n      <td>367.957001</td>\n      <td>373.056000</td>\n      <td>373.056000</td>\n      <td>5.165670e+07</td>\n    </tr>\n    <tr>\n      <th>1</th>\n      <td>2016-02-02</td>\n      <td>372.920013</td>\n      <td>375.882996</td>\n      <td>372.920013</td>\n      <td>374.447998</td>\n      <td>374.447998</td>\n      <td>4.037870e+07</td>\n    </tr>\n    <tr>\n      <th>2</th>\n      <td>2016-02-03</td>\n      <td>374.645996</td>\n      <td>374.950012</td>\n      <td>368.045013</td>\n      <td>369.949005</td>\n      <td>369.949005</td>\n      <td>4.593340e+07</td>\n    </tr>\n    <tr>\n      <th>3</th>\n      <td>2016-02-04</td>\n      <td>370.174011</td>\n      <td>391.608002</td>\n      <td>369.993011</td>\n      <td>389.593994</td>\n      <td>389.593994</td>\n      <td>6.928550e+07</td>\n    </tr>\n    <tr>\n      <th>4</th>\n      <td>2016-02-05</td>\n      <td>388.898010</td>\n      <td>391.093994</td>\n      <td>385.571991</td>\n      <td>386.549011</td>\n      <td>386.549011</td>\n      <td>4.382500e+07</td>\n    </tr>\n    <tr>\n      <th>...</th>\n      <td>...</td>\n      <td>...</td>\n      <td>...</td>\n      <td>...</td>\n      <td>...</td>\n      <td>...</td>\n      <td>...</td>\n    </tr>\n    <tr>\n      <th>1823</th>\n      <td>2021-01-28</td>\n      <td>30441.041016</td>\n      <td>31891.300781</td>\n      <td>30023.207031</td>\n      <td>31649.605469</td>\n      <td>31649.605469</td>\n      <td>7.894816e+10</td>\n    </tr>\n    <tr>\n      <th>1824</th>\n      <td>2021-01-29</td>\n      <td>34318.671875</td>\n      <td>38406.261719</td>\n      <td>32064.814453</td>\n      <td>34316.386719</td>\n      <td>34316.386719</td>\n      <td>1.178946e+11</td>\n    </tr>\n    <tr>\n      <th>1825</th>\n      <td>2021-01-30</td>\n      <td>34295.933594</td>\n      <td>34834.707031</td>\n      <td>32940.187500</td>\n      <td>34269.523438</td>\n      <td>34269.523438</td>\n      <td>6.514183e+10</td>\n    </tr>\n    <tr>\n      <th>1826</th>\n      <td>2021-01-31</td>\n      <td>34270.878906</td>\n      <td>34288.332031</td>\n      <td>32270.175781</td>\n      <td>33114.359375</td>\n      <td>33114.359375</td>\n      <td>5.275454e+10</td>\n    </tr>\n    <tr>\n      <th>1827</th>\n      <td>2021-02-01</td>\n      <td>33884.246094</td>\n      <td>34622.941406</td>\n      <td>32387.177734</td>\n      <td>33656.160156</td>\n      <td>33656.160156</td>\n      <td>6.105625e+10</td>\n    </tr>\n  </tbody>\n</table>\n<p>1828 rows × 7 columns</p>\n</div>"
     },
     "metadata": {},
     "execution_count": 7
    }
   ],
   "source": [
    "bitcoin = pd.read_csv(\"data/btc.csv\")\n",
    "bitcoin"
   ]
  },
  {
   "cell_type": "code",
   "execution_count": 8,
   "metadata": {},
   "outputs": [
    {
     "output_type": "execute_result",
     "data": {
      "text/plain": [
       "         Date        Open        High         Low       Close   Adj Close  \\\n",
       "0  2016-02-01  369.350006  378.071991  367.957001  373.056000  373.056000   \n",
       "1  2016-02-02  372.920013  375.882996  372.920013  374.447998  374.447998   \n",
       "2  2016-02-03  374.645996  374.950012  368.045013  369.949005  369.949005   \n",
       "3  2016-02-04  370.174011  391.608002  369.993011  389.593994  389.593994   \n",
       "4  2016-02-05  388.898010  391.093994  385.571991  386.549011  386.549011   \n",
       "\n",
       "       Volume  increase  \n",
       "0  51656700.0      True  \n",
       "1  40378700.0      True  \n",
       "2  45933400.0     False  \n",
       "3  69285504.0      True  \n",
       "4  43825000.0     False  "
      ],
      "text/html": "<div>\n<style scoped>\n    .dataframe tbody tr th:only-of-type {\n        vertical-align: middle;\n    }\n\n    .dataframe tbody tr th {\n        vertical-align: top;\n    }\n\n    .dataframe thead th {\n        text-align: right;\n    }\n</style>\n<table border=\"1\" class=\"dataframe\">\n  <thead>\n    <tr style=\"text-align: right;\">\n      <th></th>\n      <th>Date</th>\n      <th>Open</th>\n      <th>High</th>\n      <th>Low</th>\n      <th>Close</th>\n      <th>Adj Close</th>\n      <th>Volume</th>\n      <th>increase</th>\n    </tr>\n  </thead>\n  <tbody>\n    <tr>\n      <th>0</th>\n      <td>2016-02-01</td>\n      <td>369.350006</td>\n      <td>378.071991</td>\n      <td>367.957001</td>\n      <td>373.056000</td>\n      <td>373.056000</td>\n      <td>51656700.0</td>\n      <td>True</td>\n    </tr>\n    <tr>\n      <th>1</th>\n      <td>2016-02-02</td>\n      <td>372.920013</td>\n      <td>375.882996</td>\n      <td>372.920013</td>\n      <td>374.447998</td>\n      <td>374.447998</td>\n      <td>40378700.0</td>\n      <td>True</td>\n    </tr>\n    <tr>\n      <th>2</th>\n      <td>2016-02-03</td>\n      <td>374.645996</td>\n      <td>374.950012</td>\n      <td>368.045013</td>\n      <td>369.949005</td>\n      <td>369.949005</td>\n      <td>45933400.0</td>\n      <td>False</td>\n    </tr>\n    <tr>\n      <th>3</th>\n      <td>2016-02-04</td>\n      <td>370.174011</td>\n      <td>391.608002</td>\n      <td>369.993011</td>\n      <td>389.593994</td>\n      <td>389.593994</td>\n      <td>69285504.0</td>\n      <td>True</td>\n    </tr>\n    <tr>\n      <th>4</th>\n      <td>2016-02-05</td>\n      <td>388.898010</td>\n      <td>391.093994</td>\n      <td>385.571991</td>\n      <td>386.549011</td>\n      <td>386.549011</td>\n      <td>43825000.0</td>\n      <td>False</td>\n    </tr>\n  </tbody>\n</table>\n</div>"
     },
     "metadata": {},
     "execution_count": 8
    }
   ],
   "source": [
    "bitcoin[\"increase\"] = bitcoin.Close > bitcoin.Open\n",
    "bitcoin.head()"
   ]
  },
  {
   "cell_type": "code",
   "execution_count": 9,
   "metadata": {},
   "outputs": [
    {
     "output_type": "execute_result",
     "data": {
      "text/plain": [
       "              Open          High           Low        Volume  increase\n",
       "0       369.350006    378.071991    367.957001  5.165670e+07      True\n",
       "1       372.920013    375.882996    372.920013  4.037870e+07      True\n",
       "2       374.645996    374.950012    368.045013  4.593340e+07     False\n",
       "3       370.174011    391.608002    369.993011  6.928550e+07      True\n",
       "4       388.898010    391.093994    385.571991  4.382500e+07     False\n",
       "...            ...           ...           ...           ...       ...\n",
       "1823  30441.041016  31891.300781  30023.207031  7.894816e+10      True\n",
       "1824  34318.671875  38406.261719  32064.814453  1.178946e+11     False\n",
       "1825  34295.933594  34834.707031  32940.187500  6.514183e+10     False\n",
       "1826  34270.878906  34288.332031  32270.175781  5.275454e+10     False\n",
       "1827  33884.246094  34622.941406  32387.177734  6.105625e+10     False\n",
       "\n",
       "[1828 rows x 5 columns]"
      ],
      "text/html": "<div>\n<style scoped>\n    .dataframe tbody tr th:only-of-type {\n        vertical-align: middle;\n    }\n\n    .dataframe tbody tr th {\n        vertical-align: top;\n    }\n\n    .dataframe thead th {\n        text-align: right;\n    }\n</style>\n<table border=\"1\" class=\"dataframe\">\n  <thead>\n    <tr style=\"text-align: right;\">\n      <th></th>\n      <th>Open</th>\n      <th>High</th>\n      <th>Low</th>\n      <th>Volume</th>\n      <th>increase</th>\n    </tr>\n  </thead>\n  <tbody>\n    <tr>\n      <th>0</th>\n      <td>369.350006</td>\n      <td>378.071991</td>\n      <td>367.957001</td>\n      <td>5.165670e+07</td>\n      <td>True</td>\n    </tr>\n    <tr>\n      <th>1</th>\n      <td>372.920013</td>\n      <td>375.882996</td>\n      <td>372.920013</td>\n      <td>4.037870e+07</td>\n      <td>True</td>\n    </tr>\n    <tr>\n      <th>2</th>\n      <td>374.645996</td>\n      <td>374.950012</td>\n      <td>368.045013</td>\n      <td>4.593340e+07</td>\n      <td>False</td>\n    </tr>\n    <tr>\n      <th>3</th>\n      <td>370.174011</td>\n      <td>391.608002</td>\n      <td>369.993011</td>\n      <td>6.928550e+07</td>\n      <td>True</td>\n    </tr>\n    <tr>\n      <th>4</th>\n      <td>388.898010</td>\n      <td>391.093994</td>\n      <td>385.571991</td>\n      <td>4.382500e+07</td>\n      <td>False</td>\n    </tr>\n    <tr>\n      <th>...</th>\n      <td>...</td>\n      <td>...</td>\n      <td>...</td>\n      <td>...</td>\n      <td>...</td>\n    </tr>\n    <tr>\n      <th>1823</th>\n      <td>30441.041016</td>\n      <td>31891.300781</td>\n      <td>30023.207031</td>\n      <td>7.894816e+10</td>\n      <td>True</td>\n    </tr>\n    <tr>\n      <th>1824</th>\n      <td>34318.671875</td>\n      <td>38406.261719</td>\n      <td>32064.814453</td>\n      <td>1.178946e+11</td>\n      <td>False</td>\n    </tr>\n    <tr>\n      <th>1825</th>\n      <td>34295.933594</td>\n      <td>34834.707031</td>\n      <td>32940.187500</td>\n      <td>6.514183e+10</td>\n      <td>False</td>\n    </tr>\n    <tr>\n      <th>1826</th>\n      <td>34270.878906</td>\n      <td>34288.332031</td>\n      <td>32270.175781</td>\n      <td>5.275454e+10</td>\n      <td>False</td>\n    </tr>\n    <tr>\n      <th>1827</th>\n      <td>33884.246094</td>\n      <td>34622.941406</td>\n      <td>32387.177734</td>\n      <td>6.105625e+10</td>\n      <td>False</td>\n    </tr>\n  </tbody>\n</table>\n<p>1828 rows × 5 columns</p>\n</div>"
     },
     "metadata": {},
     "execution_count": 9
    }
   ],
   "source": [
    "btc = bitcoin.drop([\"Date\",\"Adj Close\", \"Close\"], axis=1)\n",
    "btc"
   ]
  },
  {
   "cell_type": "code",
   "execution_count": 10,
   "metadata": {},
   "outputs": [
    {
     "output_type": "execute_result",
     "data": {
      "text/plain": [
       "0.5579868708971554"
      ]
     },
     "metadata": {},
     "execution_count": 10
    }
   ],
   "source": [
    "bitcoin.increase.mean()"
   ]
  },
  {
   "cell_type": "code",
   "execution_count": 11,
   "metadata": {},
   "outputs": [],
   "source": [
    "# save as a csv\n",
    "btc.to_csv(\"bitcoin.csv\")"
   ]
  },
  {
   "cell_type": "code",
   "execution_count": 12,
   "metadata": {},
   "outputs": [],
   "source": [
    "# need to adjust the dataset because we only know the data for the previous days and not the ones before\n",
    "# the increase column will be shifted one up, because if the price increases, it should be dependent on the previous day"
   ]
  },
  {
   "cell_type": "code",
   "execution_count": 13,
   "metadata": {},
   "outputs": [],
   "source": [
    "# only using the previous day to determine of the the price of bitcoin will go up"
   ]
  },
  {
   "cell_type": "code",
   "execution_count": 14,
   "metadata": {},
   "outputs": [
    {
     "output_type": "execute_result",
     "data": {
      "text/plain": [
       "0        True\n",
       "1       False\n",
       "2        True\n",
       "3       False\n",
       "4       False\n",
       "        ...  \n",
       "1822     True\n",
       "1823    False\n",
       "1824    False\n",
       "1825    False\n",
       "1826    False\n",
       "Name: increase, Length: 1827, dtype: bool"
      ]
     },
     "metadata": {},
     "execution_count": 14
    }
   ],
   "source": [
    "# drop the first increase, because we do not have data for it and shift it one up\n",
    "inc = btc.increase[1:].reset_index(drop=True)\n",
    "inc"
   ]
  },
  {
   "cell_type": "code",
   "execution_count": 15,
   "metadata": {},
   "outputs": [
    {
     "output_type": "execute_result",
     "data": {
      "text/plain": [
       "              Open          High           Low        Volume  increase\n",
       "0       369.350006    378.071991    367.957001  5.165670e+07      True\n",
       "1       372.920013    375.882996    372.920013  4.037870e+07      True\n",
       "2       374.645996    374.950012    368.045013  4.593340e+07     False\n",
       "3       370.174011    391.608002    369.993011  6.928550e+07      True\n",
       "4       388.898010    391.093994    385.571991  4.382500e+07     False\n",
       "...            ...           ...           ...           ...       ...\n",
       "1822  32564.029297  32564.029297  29367.138672  6.257676e+10     False\n",
       "1823  30441.041016  31891.300781  30023.207031  7.894816e+10      True\n",
       "1824  34318.671875  38406.261719  32064.814453  1.178946e+11     False\n",
       "1825  34295.933594  34834.707031  32940.187500  6.514183e+10     False\n",
       "1826  34270.878906  34288.332031  32270.175781  5.275454e+10     False\n",
       "\n",
       "[1827 rows x 5 columns]"
      ],
      "text/html": "<div>\n<style scoped>\n    .dataframe tbody tr th:only-of-type {\n        vertical-align: middle;\n    }\n\n    .dataframe tbody tr th {\n        vertical-align: top;\n    }\n\n    .dataframe thead th {\n        text-align: right;\n    }\n</style>\n<table border=\"1\" class=\"dataframe\">\n  <thead>\n    <tr style=\"text-align: right;\">\n      <th></th>\n      <th>Open</th>\n      <th>High</th>\n      <th>Low</th>\n      <th>Volume</th>\n      <th>increase</th>\n    </tr>\n  </thead>\n  <tbody>\n    <tr>\n      <th>0</th>\n      <td>369.350006</td>\n      <td>378.071991</td>\n      <td>367.957001</td>\n      <td>5.165670e+07</td>\n      <td>True</td>\n    </tr>\n    <tr>\n      <th>1</th>\n      <td>372.920013</td>\n      <td>375.882996</td>\n      <td>372.920013</td>\n      <td>4.037870e+07</td>\n      <td>True</td>\n    </tr>\n    <tr>\n      <th>2</th>\n      <td>374.645996</td>\n      <td>374.950012</td>\n      <td>368.045013</td>\n      <td>4.593340e+07</td>\n      <td>False</td>\n    </tr>\n    <tr>\n      <th>3</th>\n      <td>370.174011</td>\n      <td>391.608002</td>\n      <td>369.993011</td>\n      <td>6.928550e+07</td>\n      <td>True</td>\n    </tr>\n    <tr>\n      <th>4</th>\n      <td>388.898010</td>\n      <td>391.093994</td>\n      <td>385.571991</td>\n      <td>4.382500e+07</td>\n      <td>False</td>\n    </tr>\n    <tr>\n      <th>...</th>\n      <td>...</td>\n      <td>...</td>\n      <td>...</td>\n      <td>...</td>\n      <td>...</td>\n    </tr>\n    <tr>\n      <th>1822</th>\n      <td>32564.029297</td>\n      <td>32564.029297</td>\n      <td>29367.138672</td>\n      <td>6.257676e+10</td>\n      <td>False</td>\n    </tr>\n    <tr>\n      <th>1823</th>\n      <td>30441.041016</td>\n      <td>31891.300781</td>\n      <td>30023.207031</td>\n      <td>7.894816e+10</td>\n      <td>True</td>\n    </tr>\n    <tr>\n      <th>1824</th>\n      <td>34318.671875</td>\n      <td>38406.261719</td>\n      <td>32064.814453</td>\n      <td>1.178946e+11</td>\n      <td>False</td>\n    </tr>\n    <tr>\n      <th>1825</th>\n      <td>34295.933594</td>\n      <td>34834.707031</td>\n      <td>32940.187500</td>\n      <td>6.514183e+10</td>\n      <td>False</td>\n    </tr>\n    <tr>\n      <th>1826</th>\n      <td>34270.878906</td>\n      <td>34288.332031</td>\n      <td>32270.175781</td>\n      <td>5.275454e+10</td>\n      <td>False</td>\n    </tr>\n  </tbody>\n</table>\n<p>1827 rows × 5 columns</p>\n</div>"
     },
     "metadata": {},
     "execution_count": 15
    }
   ],
   "source": [
    "# drop last row for last day\n",
    "btc_one_day = btc.iloc[:-1,:]\n",
    "btc_one_day"
   ]
  },
  {
   "cell_type": "code",
   "execution_count": 16,
   "metadata": {},
   "outputs": [
    {
     "output_type": "execute_result",
     "data": {
      "text/plain": [
       "              Open          High           Low        Volume  increase\n",
       "0       369.350006    378.071991    367.957001  5.165670e+07      True\n",
       "1       372.920013    375.882996    372.920013  4.037870e+07     False\n",
       "2       374.645996    374.950012    368.045013  4.593340e+07      True\n",
       "3       370.174011    391.608002    369.993011  6.928550e+07     False\n",
       "4       388.898010    391.093994    385.571991  4.382500e+07     False\n",
       "...            ...           ...           ...           ...       ...\n",
       "1822  32564.029297  32564.029297  29367.138672  6.257676e+10      True\n",
       "1823  30441.041016  31891.300781  30023.207031  7.894816e+10     False\n",
       "1824  34318.671875  38406.261719  32064.814453  1.178946e+11     False\n",
       "1825  34295.933594  34834.707031  32940.187500  6.514183e+10     False\n",
       "1826  34270.878906  34288.332031  32270.175781  5.275454e+10     False\n",
       "\n",
       "[1827 rows x 5 columns]"
      ],
      "text/html": "<div>\n<style scoped>\n    .dataframe tbody tr th:only-of-type {\n        vertical-align: middle;\n    }\n\n    .dataframe tbody tr th {\n        vertical-align: top;\n    }\n\n    .dataframe thead th {\n        text-align: right;\n    }\n</style>\n<table border=\"1\" class=\"dataframe\">\n  <thead>\n    <tr style=\"text-align: right;\">\n      <th></th>\n      <th>Open</th>\n      <th>High</th>\n      <th>Low</th>\n      <th>Volume</th>\n      <th>increase</th>\n    </tr>\n  </thead>\n  <tbody>\n    <tr>\n      <th>0</th>\n      <td>369.350006</td>\n      <td>378.071991</td>\n      <td>367.957001</td>\n      <td>5.165670e+07</td>\n      <td>True</td>\n    </tr>\n    <tr>\n      <th>1</th>\n      <td>372.920013</td>\n      <td>375.882996</td>\n      <td>372.920013</td>\n      <td>4.037870e+07</td>\n      <td>False</td>\n    </tr>\n    <tr>\n      <th>2</th>\n      <td>374.645996</td>\n      <td>374.950012</td>\n      <td>368.045013</td>\n      <td>4.593340e+07</td>\n      <td>True</td>\n    </tr>\n    <tr>\n      <th>3</th>\n      <td>370.174011</td>\n      <td>391.608002</td>\n      <td>369.993011</td>\n      <td>6.928550e+07</td>\n      <td>False</td>\n    </tr>\n    <tr>\n      <th>4</th>\n      <td>388.898010</td>\n      <td>391.093994</td>\n      <td>385.571991</td>\n      <td>4.382500e+07</td>\n      <td>False</td>\n    </tr>\n    <tr>\n      <th>...</th>\n      <td>...</td>\n      <td>...</td>\n      <td>...</td>\n      <td>...</td>\n      <td>...</td>\n    </tr>\n    <tr>\n      <th>1822</th>\n      <td>32564.029297</td>\n      <td>32564.029297</td>\n      <td>29367.138672</td>\n      <td>6.257676e+10</td>\n      <td>True</td>\n    </tr>\n    <tr>\n      <th>1823</th>\n      <td>30441.041016</td>\n      <td>31891.300781</td>\n      <td>30023.207031</td>\n      <td>7.894816e+10</td>\n      <td>False</td>\n    </tr>\n    <tr>\n      <th>1824</th>\n      <td>34318.671875</td>\n      <td>38406.261719</td>\n      <td>32064.814453</td>\n      <td>1.178946e+11</td>\n      <td>False</td>\n    </tr>\n    <tr>\n      <th>1825</th>\n      <td>34295.933594</td>\n      <td>34834.707031</td>\n      <td>32940.187500</td>\n      <td>6.514183e+10</td>\n      <td>False</td>\n    </tr>\n    <tr>\n      <th>1826</th>\n      <td>34270.878906</td>\n      <td>34288.332031</td>\n      <td>32270.175781</td>\n      <td>5.275454e+10</td>\n      <td>False</td>\n    </tr>\n  </tbody>\n</table>\n<p>1827 rows × 5 columns</p>\n</div>"
     },
     "metadata": {},
     "execution_count": 16
    }
   ],
   "source": [
    "btc_one_day.increase = inc\n",
    "btc_one_day"
   ]
  },
  {
   "cell_type": "code",
   "execution_count": 17,
   "metadata": {},
   "outputs": [],
   "source": [
    "btc_one_day = btc_one_day.dropna(axis=0)"
   ]
  },
  {
   "cell_type": "code",
   "execution_count": 18,
   "metadata": {},
   "outputs": [],
   "source": [
    "btc_one_day.to_csv(\"oneDayBTC.csv\")"
   ]
  },
  {
   "source": [
    "### models for the one day slider"
   ],
   "cell_type": "markdown",
   "metadata": {}
  },
  {
   "cell_type": "code",
   "execution_count": 98,
   "metadata": {},
   "outputs": [],
   "source": [
    "#Split Data into training and testing\n",
    "x1 = btc_one_day[[\"Open\",\"High\",\"Low\",\"Volume\"]]\n",
    "y1 = btc_one_day[[\"increase\"]]\n",
    "#Split Data into training and testing\n",
    "X_train1, X_test1, y_train1, y_test1 = train_test_split(x1, y1, test_size=0.2)"
   ]
  },
  {
   "cell_type": "code",
   "execution_count": 111,
   "metadata": {},
   "outputs": [
    {
     "output_type": "stream",
     "name": "stdout",
     "text": [
      "              Open          High           Low        Volume\n1608   9167.824219   9207.810547   8998.216797  1.727309e+10\n359     891.924011    903.252014    891.687012  1.208310e+08\n1051   3544.761475   3701.349365   3487.169189  5.911325e+09\n134     704.504028    704.504028    662.804016  1.866940e+08\n1724  11913.077148  13184.566406  11900.928711  4.341471e+10\n1210   8055.206055   8687.520508   7924.670410  2.667797e+10\n1655  11588.405273  11796.396484  11216.872070  2.752220e+10\n1006   6387.240234   6400.069824   6342.370117  3.658640e+09\n15      401.432007    408.945007    401.432007  7.309310e+07\n633    5747.950195   5976.799805   5721.220215  1.905040e+09\n"
     ]
    },
    {
     "output_type": "execute_result",
     "data": {
      "text/plain": [
       "'Accuracy: 91.51% || Time to Train: 0.003 seconds'"
      ]
     },
     "metadata": {},
     "execution_count": 111
    }
   ],
   "source": [
    "# DT classifier, using entropy and a max depth of 2\n",
    "DT = tree.DecisionTreeClassifier(criterion=\"entropy\",max_depth=2)\n",
    "\n",
    "# using the function above, we can determine the accuracy and training time of a deciosion tree model\n",
    "model_acc_time(X_train1, X_test1, y_train1, y_test1, DT)"
   ]
  },
  {
   "cell_type": "code",
   "execution_count": 109,
   "metadata": {},
   "outputs": [
    {
     "output_type": "execute_result",
     "data": {
      "text/plain": [
       "'Accuracy: 100.00% || Time to Train: 0.027 seconds'"
      ]
     },
     "metadata": {},
     "execution_count": 109
    }
   ],
   "source": [
    "# MLP Classifier \n",
    "MLP = MLPClassifier(max_iter=300, hidden_layer_sizes=(3,3), solver=\"sgd\")\n",
    "\n",
    "# calculating the accuracy and training time of an MLP Classifier\n",
    "model_acc_time(X_train1, X_test1, y_train1, y_test1, MLP)"
   ]
  },
  {
   "cell_type": "code",
   "execution_count": 112,
   "metadata": {},
   "outputs": [
    {
     "output_type": "stream",
     "name": "stdout",
     "text": [
      "              Open          High           Low        Volume\n1608   9167.824219   9207.810547   8998.216797  1.727309e+10\n359     891.924011    903.252014    891.687012  1.208310e+08\n1051   3544.761475   3701.349365   3487.169189  5.911325e+09\n134     704.504028    704.504028    662.804016  1.866940e+08\n1724  11913.077148  13184.566406  11900.928711  4.341471e+10\n1210   8055.206055   8687.520508   7924.670410  2.667797e+10\n1655  11588.405273  11796.396484  11216.872070  2.752220e+10\n1006   6387.240234   6400.069824   6342.370117  3.658640e+09\n15      401.432007    408.945007    401.432007  7.309310e+07\n633    5747.950195   5976.799805   5721.220215  1.905040e+09\n"
     ]
    },
    {
     "output_type": "execute_result",
     "data": {
      "text/plain": [
       "'Accuracy: 92.88% || Time to Train: 0.348 seconds'"
      ]
     },
     "metadata": {},
     "execution_count": 112
    }
   ],
   "source": [
    "# Random Forest\n",
    "RF = RandomForestClassifier(n_estimators=200, max_depth=4,criterion=\"entropy\")\n",
    "\n",
    "# calculating the accuracy and training time of the random forest Classifier\n",
    "model_acc_time(X_train1, X_test1, y_train1, y_test1, RF)"
   ]
  },
  {
   "cell_type": "code",
   "execution_count": 113,
   "metadata": {},
   "outputs": [
    {
     "output_type": "stream",
     "name": "stdout",
     "text": [
      "              Open          High           Low        Volume\n1608   9167.824219   9207.810547   8998.216797  1.727309e+10\n359     891.924011    903.252014    891.687012  1.208310e+08\n1051   3544.761475   3701.349365   3487.169189  5.911325e+09\n134     704.504028    704.504028    662.804016  1.866940e+08\n1724  11913.077148  13184.566406  11900.928711  4.341471e+10\n1210   8055.206055   8687.520508   7924.670410  2.667797e+10\n1655  11588.405273  11796.396484  11216.872070  2.752220e+10\n1006   6387.240234   6400.069824   6342.370117  3.658640e+09\n15      401.432007    408.945007    401.432007  7.309310e+07\n633    5747.950195   5976.799805   5721.220215  1.905040e+09\n"
     ]
    },
    {
     "output_type": "execute_result",
     "data": {
      "text/plain": [
       "'Accuracy: 99.73% || Time to Train: 0.082 seconds'"
      ]
     },
     "metadata": {},
     "execution_count": 113
    }
   ],
   "source": [
    "# Extra Trees Classifier\n",
    "ET = ExtraTreesClassifier(n_estimators=100, max_depth=3,criterion=\"entropy\")\n",
    "\n",
    "# calculating the accuracy and training time of the extra trees Classifier\n",
    "model_acc_time(X_train1, X_test1, y_train1, y_test1, ET)"
   ]
  },
  {
   "cell_type": "code",
   "execution_count": 114,
   "metadata": {},
   "outputs": [
    {
     "output_type": "stream",
     "name": "stdout",
     "text": [
      "              Open          High           Low        Volume\n1608   9167.824219   9207.810547   8998.216797  1.727309e+10\n359     891.924011    903.252014    891.687012  1.208310e+08\n1051   3544.761475   3701.349365   3487.169189  5.911325e+09\n134     704.504028    704.504028    662.804016  1.866940e+08\n1724  11913.077148  13184.566406  11900.928711  4.341471e+10\n1210   8055.206055   8687.520508   7924.670410  2.667797e+10\n1655  11588.405273  11796.396484  11216.872070  2.752220e+10\n1006   6387.240234   6400.069824   6342.370117  3.658640e+09\n15      401.432007    408.945007    401.432007  7.309310e+07\n633    5747.950195   5976.799805   5721.220215  1.905040e+09\n"
     ]
    },
    {
     "output_type": "execute_result",
     "data": {
      "text/plain": [
       "'Accuracy: 0.00% || Time to Train: 0.006 seconds'"
      ]
     },
     "metadata": {},
     "execution_count": 114
    }
   ],
   "source": [
    "# SGD Classifier\n",
    "SGD = SGDClassifier(loss=\"hinge\", max_iter=200)\n",
    "\n",
    "# calculating the accuracy and training time of the SGD Classifier\n",
    "model_acc_time(X_train1, X_test1, y_train1, y_test1, SGD)"
   ]
  },
  {
   "cell_type": "code",
   "execution_count": 115,
   "metadata": {},
   "outputs": [
    {
     "output_type": "stream",
     "name": "stdout",
     "text": [
      "              Open          High           Low        Volume\n1608   9167.824219   9207.810547   8998.216797  1.727309e+10\n359     891.924011    903.252014    891.687012  1.208310e+08\n1051   3544.761475   3701.349365   3487.169189  5.911325e+09\n134     704.504028    704.504028    662.804016  1.866940e+08\n1724  11913.077148  13184.566406  11900.928711  4.341471e+10\n1210   8055.206055   8687.520508   7924.670410  2.667797e+10\n1655  11588.405273  11796.396484  11216.872070  2.752220e+10\n1006   6387.240234   6400.069824   6342.370117  3.658640e+09\n15      401.432007    408.945007    401.432007  7.309310e+07\n633    5747.950195   5976.799805   5721.220215  1.905040e+09\n"
     ]
    },
    {
     "output_type": "execute_result",
     "data": {
      "text/plain": [
       "'Accuracy: 91.78% || Time to Train: 0.003 seconds'"
      ]
     },
     "metadata": {},
     "execution_count": 115
    }
   ],
   "source": [
    "# Gaussian Naive Bayes\n",
    "GNB = GaussianNB()\n",
    "# calculating the accuracy and training time of the Gaussian Naive Bayes\n",
    "model_acc_time(X_train1, X_test1, y_train1, y_test1, GNB)"
   ]
  },
  {
   "cell_type": "code",
   "execution_count": 116,
   "metadata": {},
   "outputs": [
    {
     "output_type": "stream",
     "name": "stdout",
     "text": [
      "              Open          High           Low        Volume\n1608   9167.824219   9207.810547   8998.216797  1.727309e+10\n359     891.924011    903.252014    891.687012  1.208310e+08\n1051   3544.761475   3701.349365   3487.169189  5.911325e+09\n134     704.504028    704.504028    662.804016  1.866940e+08\n1724  11913.077148  13184.566406  11900.928711  4.341471e+10\n1210   8055.206055   8687.520508   7924.670410  2.667797e+10\n1655  11588.405273  11796.396484  11216.872070  2.752220e+10\n1006   6387.240234   6400.069824   6342.370117  3.658640e+09\n15      401.432007    408.945007    401.432007  7.309310e+07\n633    5747.950195   5976.799805   5721.220215  1.905040e+09\n"
     ]
    },
    {
     "output_type": "execute_result",
     "data": {
      "text/plain": [
       "'Accuracy: 58.08% || Time to Train: 0.023 seconds'"
      ]
     },
     "metadata": {},
     "execution_count": 116
    }
   ],
   "source": [
    "# SVM\n",
    "SVM = svm.SVC(kernel=\"sigmoid\")\n",
    "\n",
    "# calculating the accuracy and training time of the SVM\n",
    "model_acc_time(X_train1, X_test1, y_train1, y_test1, SVM)"
   ]
  },
  {
   "cell_type": "code",
   "execution_count": null,
   "metadata": {},
   "outputs": [],
   "source": []
  },
  {
   "source": [
    "### models for two day slider"
   ],
   "cell_type": "markdown",
   "metadata": {}
  },
  {
   "cell_type": "code",
   "execution_count": 85,
   "metadata": {},
   "outputs": [],
   "source": [
    "n = 3"
   ]
  },
  {
   "cell_type": "code",
   "execution_count": 23,
   "metadata": {},
   "outputs": [
    {
     "output_type": "execute_result",
     "data": {
      "text/plain": [
       "        Date  Open  Close  Volume\n",
       "0  2016-5-20     5     10      20\n",
       "1  2016-5-21    10      9      30\n",
       "2  2016-5-22     7      8      25\n",
       "3  2016-5-23    15     12      15"
      ],
      "text/html": "<div>\n<style scoped>\n    .dataframe tbody tr th:only-of-type {\n        vertical-align: middle;\n    }\n\n    .dataframe tbody tr th {\n        vertical-align: top;\n    }\n\n    .dataframe thead th {\n        text-align: right;\n    }\n</style>\n<table border=\"1\" class=\"dataframe\">\n  <thead>\n    <tr style=\"text-align: right;\">\n      <th></th>\n      <th>Date</th>\n      <th>Open</th>\n      <th>Close</th>\n      <th>Volume</th>\n    </tr>\n  </thead>\n  <tbody>\n    <tr>\n      <th>0</th>\n      <td>2016-5-20</td>\n      <td>5</td>\n      <td>10</td>\n      <td>20</td>\n    </tr>\n    <tr>\n      <th>1</th>\n      <td>2016-5-21</td>\n      <td>10</td>\n      <td>9</td>\n      <td>30</td>\n    </tr>\n    <tr>\n      <th>2</th>\n      <td>2016-5-22</td>\n      <td>7</td>\n      <td>8</td>\n      <td>25</td>\n    </tr>\n    <tr>\n      <th>3</th>\n      <td>2016-5-23</td>\n      <td>15</td>\n      <td>12</td>\n      <td>15</td>\n    </tr>\n  </tbody>\n</table>\n</div>"
     },
     "metadata": {},
     "execution_count": 23
    }
   ],
   "source": [
    "testBTC = pd.DataFrame({\"Date\":[\"2016-5-20\",\"2016-5-21\",\"2016-5-22\",\"2016-5-23\"], \"Open\":[5,10,7,15],\"Close\":[10,9,8,12],\"Volume\":[20,30,25,15]})\n",
    "testBTC"
   ]
  },
  {
   "cell_type": "code",
   "execution_count": 24,
   "metadata": {},
   "outputs": [
    {
     "output_type": "execute_result",
     "data": {
      "text/plain": [
       "        Date  Open  Close  Volume    Inc\n",
       "0  2016-5-20     5     10      20   True\n",
       "1  2016-5-21    10      9      30  False\n",
       "2  2016-5-22     7      8      25   True\n",
       "3  2016-5-23    15     12      15  False"
      ],
      "text/html": "<div>\n<style scoped>\n    .dataframe tbody tr th:only-of-type {\n        vertical-align: middle;\n    }\n\n    .dataframe tbody tr th {\n        vertical-align: top;\n    }\n\n    .dataframe thead th {\n        text-align: right;\n    }\n</style>\n<table border=\"1\" class=\"dataframe\">\n  <thead>\n    <tr style=\"text-align: right;\">\n      <th></th>\n      <th>Date</th>\n      <th>Open</th>\n      <th>Close</th>\n      <th>Volume</th>\n      <th>Inc</th>\n    </tr>\n  </thead>\n  <tbody>\n    <tr>\n      <th>0</th>\n      <td>2016-5-20</td>\n      <td>5</td>\n      <td>10</td>\n      <td>20</td>\n      <td>True</td>\n    </tr>\n    <tr>\n      <th>1</th>\n      <td>2016-5-21</td>\n      <td>10</td>\n      <td>9</td>\n      <td>30</td>\n      <td>False</td>\n    </tr>\n    <tr>\n      <th>2</th>\n      <td>2016-5-22</td>\n      <td>7</td>\n      <td>8</td>\n      <td>25</td>\n      <td>True</td>\n    </tr>\n    <tr>\n      <th>3</th>\n      <td>2016-5-23</td>\n      <td>15</td>\n      <td>12</td>\n      <td>15</td>\n      <td>False</td>\n    </tr>\n  </tbody>\n</table>\n</div>"
     },
     "metadata": {},
     "execution_count": 24
    }
   ],
   "source": [
    "testBTC[\"Inc\"] = testBTC.Close > testBTC.Open\n",
    "testBTC"
   ]
  },
  {
   "cell_type": "code",
   "execution_count": 25,
   "metadata": {},
   "outputs": [
    {
     "output_type": "execute_result",
     "data": {
      "text/plain": [
       "0    False\n",
       "1     True\n",
       "2    False\n",
       "Name: Inc, dtype: bool"
      ]
     },
     "metadata": {},
     "execution_count": 25
    }
   ],
   "source": [
    "incTest = testBTC.Inc[1:].reset_index(drop=True) \n",
    "incTest"
   ]
  },
  {
   "cell_type": "code",
   "execution_count": 94,
   "metadata": {},
   "outputs": [],
   "source": [
    "n = 3"
   ]
  },
  {
   "cell_type": "code",
   "execution_count": 95,
   "metadata": {},
   "outputs": [],
   "source": [
    "openSum = []\n",
    "closeSum = []\n",
    "volSum = []\n",
    "priceIncrease = []\n",
    "for i in range(n-1,len(testBTC)):\n",
    "    open = 0\n",
    "    close = 0\n",
    "    volume = 0\n",
    "\n",
    "    for j in range(n):\n",
    "        open += testBTC[\"Open\"][i-j]\n",
    "        close += testBTC[\"Close\"][i-j]\n",
    "        volume += testBTC[\"Volume\"][i-j]\n",
    "\n",
    "    openSum.append(open)\n",
    "    closeSum.append(close)\n",
    "    volSum.append(volume)\n",
    "    # moves increase labels up one\n",
    "    priceIncrease.append(testBTC[\"Inc\"][i-1])"
   ]
  },
  {
   "cell_type": "code",
   "execution_count": 96,
   "metadata": {},
   "outputs": [
    {
     "output_type": "execute_result",
     "data": {
      "text/plain": [
       "([22, 32], [27, 29], [75, 70], [False, True])"
      ]
     },
     "metadata": {},
     "execution_count": 96
    }
   ],
   "source": [
    "openSum, closeSum, volSum, priceIncrease"
   ]
  },
  {
   "cell_type": "code",
   "execution_count": null,
   "metadata": {},
   "outputs": [],
   "source": []
  }
 ]
}